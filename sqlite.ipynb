{
 "cells": [
  {
   "cell_type": "markdown",
   "metadata": {},
   "source": [
    "## Installing SQLite"
   ]
  },
  {
   "cell_type": "markdown",
   "metadata": {},
   "source": [
    "SQLite is already integrated into Python(from version 2.5 and onwards). If you want to install SQLite to install SQLite locally then go through this link - https://www.sqlitetutorial.net/download-install-sqlite/, as it gives detailed overview and instructions of how to download and run SQL queries using SQLite. "
   ]
  },
  {
   "cell_type": "markdown",
   "metadata": {},
   "source": [
    "## Using SQLite in Python"
   ]
  },
  {
   "cell_type": "markdown",
   "metadata": {},
   "source": [
    "If we want to use SQLite using Python the all we need to do is import the sqlite3 library. After that we need to establish a connection, and a cursor. A cursor object acts as a bridge between the SQLite database connection and SQL queries. Let's begin with creating a database, a connection, a cursor, and a table to insert values into."
   ]
  },
  {
   "cell_type": "code",
   "execution_count": 21,
   "metadata": {},
   "outputs": [],
   "source": [
    "import sqlite3 as sq\n",
    "conn = sq.connect(\"example.db\")\n",
    "cur = conn.cursor()"
   ]
  },
  {
   "cell_type": "markdown",
   "metadata": {},
   "source": [
    "As we have established a connection and created a cursor object, it is time for us to know the functions/keywords which will help us in executing the queries.\n",
    "\n",
    "* execute() - This function is used to execute a single line of SQL query in SQLite.\n",
    "* executemany() - This function is used to execute multiple lines of one command in SQLite.\n",
    "* executescript() - This function is used to execute multiple SQL expression at once.\n",
    "\n",
    "So one might ask - what is the difference between executemany() and executescript()?\n",
    "\n",
    "The answer can be demonstrated by the example given below. Before that let us create a table to insert values into it."
   ]
  },
  {
   "cell_type": "code",
   "execution_count": 10,
   "metadata": {},
   "outputs": [
    {
     "name": "stdout",
     "output_type": "stream",
     "text": [
      "The databases found are:\n",
      "\n",
      "example.db\n"
     ]
    }
   ],
   "source": [
    "# checking how many databases are in present\n",
    "\n",
    "import os\n",
    "\n",
    "directory = \"./\"\n",
    "databases = [j for j in os.listdir(directory) if j.endswith(('.sqlite','.db'))]\n",
    "\n",
    "print(\"The databases found are:\\n\")\n",
    "for row in databases:\n",
    "    print(row)"
   ]
  },
  {
   "cell_type": "markdown",
   "metadata": {},
   "source": [
    "The above code is used to check if how many databases are present."
   ]
  },
  {
   "cell_type": "code",
   "execution_count": null,
   "metadata": {},
   "outputs": [
    {
     "data": {
      "text/plain": [
       "<sqlite3.Cursor at 0x17eb4059240>"
      ]
     },
     "execution_count": 19,
     "metadata": {},
     "output_type": "execute_result"
    }
   ],
   "source": [
    "cur.executescript(\"\"\"\n",
    "                  CREATE TABLE customer(first_name TEXT, last_name TEXT, age INT, income REAL);\n",
    "                  INSERT INTO customer VALUES('Sheldon','Cooper',28,450000);\n",
    "                  INSERT INTO customer VALUES('Leonard','Hoffstader',28,400000);\n",
    "                  \"\"\")"
   ]
  },
  {
   "cell_type": "code",
   "execution_count": 20,
   "metadata": {},
   "outputs": [
    {
     "data": {
      "text/plain": [
       "[('Sheldon', 'Cooper', 28, 450000.0), ('Leonard', 'Hoffstader', 28, 400000.0)]"
      ]
     },
     "execution_count": 20,
     "metadata": {},
     "output_type": "execute_result"
    }
   ],
   "source": [
    "cur.execute(\"SELECT * FROM customer;\")\n",
    "cur.fetchall()"
   ]
  },
  {
   "cell_type": "markdown",
   "metadata": {},
   "source": [
    "The above code works fine for our code editor and fetches and displays all the records in the table, but these changes will not be shown in the local database. The reason behind that is, after each updation we need to commit the changes as well. For that we need to use the .commit() method to the connection."
   ]
  },
  {
   "cell_type": "code",
   "execution_count": 22,
   "metadata": {},
   "outputs": [],
   "source": [
    "conn.commit()"
   ]
  },
  {
   "cell_type": "markdown",
   "metadata": {},
   "source": [
    "In the above snippet, we have created a table and insert 2 values into it. So we have 2 SQL expressions here - creating a table and inserting values into it. This is possible only when we are using **.executescript()** method. \n",
    "\n",
    "Let us now see the use of **.executemany()** method"
   ]
  },
  {
   "cell_type": "code",
   "execution_count": 23,
   "metadata": {},
   "outputs": [
    {
     "data": {
      "text/plain": [
       "<sqlite3.Cursor at 0x17eb4700940>"
      ]
     },
     "execution_count": 23,
     "metadata": {},
     "output_type": "execute_result"
    }
   ],
   "source": [
    "# further inserting values into it\n",
    "\n",
    "cust_list = [('Howard','Wolowitz',27,300000),\n",
    "             ('Rajesh','Koothrapali',28,450000)]\n",
    "\n",
    "cur.executemany(\"INSERT INTO customer VALUES(?,?,?,?)\",cust_list)"
   ]
  },
  {
   "cell_type": "markdown",
   "metadata": {},
   "source": [
    "* Here I have used (?,?,?,?) for inserting records into the table. These are called **placeholders**.\n",
    "\n",
    "* We have inserted 2 records into the table, that is, we have performed one operation which is inserting. Let us see how does the table look like."
   ]
  },
  {
   "cell_type": "code",
   "execution_count": 24,
   "metadata": {},
   "outputs": [
    {
     "data": {
      "text/plain": [
       "[('Sheldon', 'Cooper', 28, 450000.0),\n",
       " ('Leonard', 'Hoffstader', 28, 400000.0),\n",
       " ('Howard', 'Wolowitz', 27, 300000.0),\n",
       " ('Rajesh', 'Koothrapali', 28, 450000.0)]"
      ]
     },
     "execution_count": 24,
     "metadata": {},
     "output_type": "execute_result"
    }
   ],
   "source": [
    "cur.execute(\"SELECT * FROM customer;\")\n",
    "cur.fetchall()"
   ]
  },
  {
   "cell_type": "code",
   "execution_count": 25,
   "metadata": {},
   "outputs": [],
   "source": [
    "conn.commit()"
   ]
  },
  {
   "cell_type": "markdown",
   "metadata": {},
   "source": [
    "The other function which is used here is **.fetchall()**. This function is used to retrieve and display all the records here. If we want to fetch only one record then we can use the **.fetchone()** method."
   ]
  },
  {
   "cell_type": "code",
   "execution_count": 26,
   "metadata": {},
   "outputs": [
    {
     "data": {
      "text/plain": [
       "('Sheldon', 'Cooper', 28, 450000.0)"
      ]
     },
     "execution_count": 26,
     "metadata": {},
     "output_type": "execute_result"
    }
   ],
   "source": [
    "cur.execute(\"SELECT * FROM customer;\")\n",
    "cur.fetchone()"
   ]
  },
  {
   "cell_type": "markdown",
   "metadata": {},
   "source": [
    "After executing the queries, it is always advisable to close the database connection. This can be done using the **.close()** method with the connection."
   ]
  },
  {
   "cell_type": "code",
   "execution_count": 27,
   "metadata": {},
   "outputs": [],
   "source": [
    "conn.close()"
   ]
  },
  {
   "cell_type": "code",
   "execution_count": null,
   "metadata": {},
   "outputs": [],
   "source": []
  }
 ],
 "metadata": {
  "kernelspec": {
   "display_name": "Python 3",
   "language": "python",
   "name": "python3"
  },
  "language_info": {
   "codemirror_mode": {
    "name": "ipython",
    "version": 3
   },
   "file_extension": ".py",
   "mimetype": "text/x-python",
   "name": "python",
   "nbconvert_exporter": "python",
   "pygments_lexer": "ipython3",
   "version": "3.11.8"
  }
 },
 "nbformat": 4,
 "nbformat_minor": 2
}
